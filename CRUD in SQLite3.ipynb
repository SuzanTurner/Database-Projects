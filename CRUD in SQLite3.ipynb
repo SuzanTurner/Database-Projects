{
 "cells": [
  {
   "cell_type": "code",
   "execution_count": 2,
   "id": "e6b6fcfd-61d7-427b-bb0b-9fa33c5068ef",
   "metadata": {},
   "outputs": [],
   "source": [
    "import sqlite3"
   ]
  },
  {
   "cell_type": "code",
   "execution_count": 12,
   "id": "73d599ec-1ccb-487e-8d14-a6e4deb0e8b4",
   "metadata": {},
   "outputs": [
    {
     "name": "stdout",
     "output_type": "stream",
     "text": [
      "[(1, 'Bananas', 60), (2, 'Apples', 120), (3, 'Oranges', 80), (4, 'Mangoes', 180)]\n",
      "[(1, 'Bananas', 60), (2, 'Apples', 120), (3, 'Oranges', 80), (4, 'Mangoes', 180)]\n",
      "[(60,), (120,), (80,), (180,)]\n",
      "[(120,), (180,)]\n",
      "[(2, 'Apples', 120), (4, 'Mangoes', 180)]\n",
      "[]\n",
      "[(1, 'Bananas', 60), (2, 'Apples', 120), (3, 'Oranges', 80), (4, 'Mangoes', 180)]\n"
     ]
    }
   ],
   "source": [
    "connection = sqlite3.connect('products.db')\n",
    "\n",
    "cursor = connection.cursor()\n",
    "\n",
    "cursor.execute(''' CREATE TABLE IF NOT EXISTS Products\n",
    "(product_id INTEGER PRIMARY KEY AUTOINCREMENT,\n",
    "product TEXT,\n",
    "price INTEGER\n",
    ")''')\n",
    "# Defining the schema\n",
    "\n",
    "cursor.execute(\"SELECT * FROM Products\")\n",
    "print(cursor.fetchall())\n",
    "# fetchall() is always after SELECT \n",
    "\n",
    "\n",
    "# Now let us populate the table\n",
    "prod = [\n",
    "    ('Bananas', 60),\n",
    "    ('Apples', 120),\n",
    "    ('Oranges', 80),\n",
    "    ('Mangoes', 200)\n",
    "]\n",
    "\n",
    "# cursor.executemany(''' INSERT INTO Products(product, price)\n",
    "#                    VALUES (?,?)''', prod)\n",
    "\n",
    "cursor.execute(\"SELECT * FROM Products\")\n",
    "print(cursor.fetchall())\n",
    "\n",
    "cursor.execute(\"SELECT price FROM Products\")\n",
    "print(cursor.fetchall())\n",
    "\n",
    "cursor.execute(\"SELECT price FROM Products WHERE price >= 100\")\n",
    "print(cursor.fetchall())\n",
    "\n",
    "cursor.execute(\"SELECT * FROM Products WHERE price >= 100\")\n",
    "print(cursor.fetchall())\n",
    "\n",
    "cursor.execute(\"UPDATE Products SET price = 180 WHERE price = 200\")\n",
    "print(cursor.fetchall())\n",
    "# UPDATE does not give any results to print, for that we must fetchall from select * again\n",
    "\n",
    "cursor.execute(\"SELECT * FROM Products\")\n",
    "print(cursor.fetchall())\n",
    "\n",
    "connection.commit()\n",
    "connection.close()\n"
   ]
  },
  {
   "cell_type": "code",
   "execution_count": null,
   "id": "5e036c86-1454-4928-84ba-83bf9eb22db4",
   "metadata": {},
   "outputs": [],
   "source": []
  }
 ],
 "metadata": {
  "kernelspec": {
   "display_name": "Python 3 (ipykernel)",
   "language": "python",
   "name": "python3"
  },
  "language_info": {
   "codemirror_mode": {
    "name": "ipython",
    "version": 3
   },
   "file_extension": ".py",
   "mimetype": "text/x-python",
   "name": "python",
   "nbconvert_exporter": "python",
   "pygments_lexer": "ipython3",
   "version": "3.12.6"
  }
 },
 "nbformat": 4,
 "nbformat_minor": 5
}
